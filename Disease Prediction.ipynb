{
 "cells": [
  {
   "cell_type": "code",
   "execution_count": 2,
   "metadata": {
    "collapsed": true
   },
   "outputs": [],
   "source": [
    "import pandas as pd\n",
    "import numpy as np"
   ]
  },
  {
   "cell_type": "code",
   "execution_count": 3,
   "metadata": {},
   "outputs": [
    {
     "data": {
      "text/html": [
       "<div>\n",
       "<style scoped>\n",
       "    .dataframe tbody tr th:only-of-type {\n",
       "        vertical-align: middle;\n",
       "    }\n",
       "\n",
       "    .dataframe tbody tr th {\n",
       "        vertical-align: top;\n",
       "    }\n",
       "\n",
       "    .dataframe thead th {\n",
       "        text-align: right;\n",
       "    }\n",
       "</style>\n",
       "<table border=\"1\" class=\"dataframe\">\n",
       "  <thead>\n",
       "    <tr style=\"text-align: right;\">\n",
       "      <th></th>\n",
       "      <th>itching</th>\n",
       "      <th>skin_rash</th>\n",
       "      <th>nodal_skin_eruptions</th>\n",
       "      <th>continuous_sneezing</th>\n",
       "      <th>shivering</th>\n",
       "      <th>chills</th>\n",
       "      <th>joint_pain</th>\n",
       "      <th>stomach_pain</th>\n",
       "      <th>acidity</th>\n",
       "      <th>ulcers_on_tongue</th>\n",
       "      <th>...</th>\n",
       "      <th>blackheads</th>\n",
       "      <th>scurring</th>\n",
       "      <th>skin_peeling</th>\n",
       "      <th>silver_like_dusting</th>\n",
       "      <th>small_dents_in_nails</th>\n",
       "      <th>inflammatory_nails</th>\n",
       "      <th>blister</th>\n",
       "      <th>red_sore_around_nose</th>\n",
       "      <th>yellow_crust_ooze</th>\n",
       "      <th>prognosis</th>\n",
       "    </tr>\n",
       "  </thead>\n",
       "  <tbody>\n",
       "    <tr>\n",
       "      <th>0</th>\n",
       "      <td>1</td>\n",
       "      <td>1</td>\n",
       "      <td>1</td>\n",
       "      <td>0</td>\n",
       "      <td>0</td>\n",
       "      <td>0</td>\n",
       "      <td>0</td>\n",
       "      <td>0</td>\n",
       "      <td>0</td>\n",
       "      <td>0</td>\n",
       "      <td>...</td>\n",
       "      <td>0</td>\n",
       "      <td>0</td>\n",
       "      <td>0</td>\n",
       "      <td>0</td>\n",
       "      <td>0</td>\n",
       "      <td>0</td>\n",
       "      <td>0</td>\n",
       "      <td>0</td>\n",
       "      <td>0</td>\n",
       "      <td>Fungal infection</td>\n",
       "    </tr>\n",
       "    <tr>\n",
       "      <th>1</th>\n",
       "      <td>0</td>\n",
       "      <td>1</td>\n",
       "      <td>1</td>\n",
       "      <td>0</td>\n",
       "      <td>0</td>\n",
       "      <td>0</td>\n",
       "      <td>0</td>\n",
       "      <td>0</td>\n",
       "      <td>0</td>\n",
       "      <td>0</td>\n",
       "      <td>...</td>\n",
       "      <td>0</td>\n",
       "      <td>0</td>\n",
       "      <td>0</td>\n",
       "      <td>0</td>\n",
       "      <td>0</td>\n",
       "      <td>0</td>\n",
       "      <td>0</td>\n",
       "      <td>0</td>\n",
       "      <td>0</td>\n",
       "      <td>Fungal infection</td>\n",
       "    </tr>\n",
       "    <tr>\n",
       "      <th>2</th>\n",
       "      <td>1</td>\n",
       "      <td>0</td>\n",
       "      <td>1</td>\n",
       "      <td>0</td>\n",
       "      <td>0</td>\n",
       "      <td>0</td>\n",
       "      <td>0</td>\n",
       "      <td>0</td>\n",
       "      <td>0</td>\n",
       "      <td>0</td>\n",
       "      <td>...</td>\n",
       "      <td>0</td>\n",
       "      <td>0</td>\n",
       "      <td>0</td>\n",
       "      <td>0</td>\n",
       "      <td>0</td>\n",
       "      <td>0</td>\n",
       "      <td>0</td>\n",
       "      <td>0</td>\n",
       "      <td>0</td>\n",
       "      <td>Fungal infection</td>\n",
       "    </tr>\n",
       "    <tr>\n",
       "      <th>3</th>\n",
       "      <td>1</td>\n",
       "      <td>1</td>\n",
       "      <td>0</td>\n",
       "      <td>0</td>\n",
       "      <td>0</td>\n",
       "      <td>0</td>\n",
       "      <td>0</td>\n",
       "      <td>0</td>\n",
       "      <td>0</td>\n",
       "      <td>0</td>\n",
       "      <td>...</td>\n",
       "      <td>0</td>\n",
       "      <td>0</td>\n",
       "      <td>0</td>\n",
       "      <td>0</td>\n",
       "      <td>0</td>\n",
       "      <td>0</td>\n",
       "      <td>0</td>\n",
       "      <td>0</td>\n",
       "      <td>0</td>\n",
       "      <td>Fungal infection</td>\n",
       "    </tr>\n",
       "    <tr>\n",
       "      <th>4</th>\n",
       "      <td>1</td>\n",
       "      <td>1</td>\n",
       "      <td>1</td>\n",
       "      <td>0</td>\n",
       "      <td>0</td>\n",
       "      <td>0</td>\n",
       "      <td>0</td>\n",
       "      <td>0</td>\n",
       "      <td>0</td>\n",
       "      <td>0</td>\n",
       "      <td>...</td>\n",
       "      <td>0</td>\n",
       "      <td>0</td>\n",
       "      <td>0</td>\n",
       "      <td>0</td>\n",
       "      <td>0</td>\n",
       "      <td>0</td>\n",
       "      <td>0</td>\n",
       "      <td>0</td>\n",
       "      <td>0</td>\n",
       "      <td>Fungal infection</td>\n",
       "    </tr>\n",
       "  </tbody>\n",
       "</table>\n",
       "<p>5 rows × 133 columns</p>\n",
       "</div>"
      ],
      "text/plain": [
       "   itching  skin_rash  nodal_skin_eruptions  continuous_sneezing  shivering  \\\n",
       "0        1          1                     1                    0          0   \n",
       "1        0          1                     1                    0          0   \n",
       "2        1          0                     1                    0          0   \n",
       "3        1          1                     0                    0          0   \n",
       "4        1          1                     1                    0          0   \n",
       "\n",
       "   chills  joint_pain  stomach_pain  acidity  ulcers_on_tongue  ...  \\\n",
       "0       0           0             0        0                 0  ...   \n",
       "1       0           0             0        0                 0  ...   \n",
       "2       0           0             0        0                 0  ...   \n",
       "3       0           0             0        0                 0  ...   \n",
       "4       0           0             0        0                 0  ...   \n",
       "\n",
       "   blackheads  scurring  skin_peeling  silver_like_dusting  \\\n",
       "0           0         0             0                    0   \n",
       "1           0         0             0                    0   \n",
       "2           0         0             0                    0   \n",
       "3           0         0             0                    0   \n",
       "4           0         0             0                    0   \n",
       "\n",
       "   small_dents_in_nails  inflammatory_nails  blister  red_sore_around_nose  \\\n",
       "0                     0                   0        0                     0   \n",
       "1                     0                   0        0                     0   \n",
       "2                     0                   0        0                     0   \n",
       "3                     0                   0        0                     0   \n",
       "4                     0                   0        0                     0   \n",
       "\n",
       "   yellow_crust_ooze         prognosis  \n",
       "0                  0  Fungal infection  \n",
       "1                  0  Fungal infection  \n",
       "2                  0  Fungal infection  \n",
       "3                  0  Fungal infection  \n",
       "4                  0  Fungal infection  \n",
       "\n",
       "[5 rows x 133 columns]"
      ]
     },
     "execution_count": 3,
     "metadata": {},
     "output_type": "execute_result"
    }
   ],
   "source": [
    "# Load Training data\n",
    "df = pd.read_csv('data/clean/Training.csv')\n",
    "\n",
    "df.head()"
   ]
  },
  {
   "cell_type": "code",
   "execution_count": null,
   "metadata": {},
   "outputs": [],
   "source": []
  },
  {
   "cell_type": "code",
   "execution_count": null,
   "metadata": {},
   "outputs": [],
   "source": []
  },
  {
   "cell_type": "code",
   "execution_count": 7,
   "metadata": {
    "collapsed": true
   },
   "outputs": [],
   "source": [
    "X = df.iloc[:, :-1]\n",
    "y = df['prognosis']"
   ]
  },
  {
   "cell_type": "code",
   "execution_count": 4,
   "metadata": {
    "collapsed": true
   },
   "outputs": [
    {
     "ename": "ModuleNotFoundError",
     "evalue": "No module named 'sklearn'",
     "output_type": "error",
     "traceback": [
      "\u001b[0;31m---------------------------------------------------------------------------\u001b[0m",
      "\u001b[0;31mModuleNotFoundError\u001b[0m                       Traceback (most recent call last)",
      "Cell \u001b[0;32mIn[4], line 2\u001b[0m\n\u001b[1;32m      1\u001b[0m \u001b[38;5;66;03m# Train, Test split\u001b[39;00m\n\u001b[0;32m----> 2\u001b[0m \u001b[38;5;28;01mfrom\u001b[39;00m \u001b[38;5;21;01msklearn\u001b[39;00m \u001b[38;5;28;01mimport\u001b[39;00m model_selection\n\u001b[1;32m      3\u001b[0m \u001b[38;5;28;01mfrom\u001b[39;00m \u001b[38;5;21;01msklearn\u001b[39;00m\u001b[38;5;21;01m.\u001b[39;00m\u001b[38;5;21;01mmodel_selection\u001b[39;00m \u001b[38;5;28;01mimport\u001b[39;00m train_test_split\n\u001b[1;32m      5\u001b[0m X_train, X_test, y_train, y_test \u001b[38;5;241m=\u001b[39m train_test_split(X, y, test_size\u001b[38;5;241m=\u001b[39m\u001b[38;5;241m0.3\u001b[39m, random_state\u001b[38;5;241m=\u001b[39m\u001b[38;5;241m20\u001b[39m)\n",
      "\u001b[0;31mModuleNotFoundError\u001b[0m: No module named 'sklearn'"
     ]
    }
   ],
   "source": [
    "# Train, Test split\n",
    "from sklearn import model_selection\n",
    "from sklearn.model_selection import train_test_split\n",
    "\n",
    "X_train, X_test, y_train, y_test = train_test_split(X, y, test_size=0.3, random_state=20)"
   ]
  },
  {
   "cell_type": "code",
   "execution_count": null,
   "metadata": {
    "collapsed": true
   },
   "outputs": [],
   "source": [
    "# Random Forest Classifier\n",
    "from sklearn.ensemble import RandomForestClassifier\n",
    "\n",
    "rf_clf = RandomForestClassifier()"
   ]
  },
  {
   "cell_type": "code",
   "execution_count": null,
   "metadata": {},
   "outputs": [
    {
     "name": "stdout",
     "output_type": "stream",
     "text": [
      "Accuracy on split test:  1.0\n"
     ]
    }
   ],
   "source": [
    "rf_clf.fit(X_train, y_train)\n",
    "\n",
    "print(\"Accuracy on split test: \", rf_clf.score(X_test,y_test))"
   ]
  },
  {
   "cell_type": "code",
   "execution_count": null,
   "metadata": {
    "collapsed": true
   },
   "outputs": [],
   "source": [
    "# Load real test data\n",
    "df_test = pd.read_csv('data/clean/Testing.csv')"
   ]
  },
  {
   "cell_type": "code",
   "execution_count": null,
   "metadata": {
    "collapsed": true
   },
   "outputs": [],
   "source": [
    "X_acutal_test = df_test.iloc[:, :-1]\n",
    "y_actual_test = df_test['prognosis']"
   ]
  },
  {
   "cell_type": "code",
   "execution_count": null,
   "metadata": {},
   "outputs": [
    {
     "name": "stdout",
     "output_type": "stream",
     "text": [
      "Accuracy on acutal test:  1.0\n"
     ]
    }
   ],
   "source": [
    "print(\"Accuracy on acutal test: \", rf_clf.score(X_acutal_test, y_actual_test))"
   ]
  },
  {
   "cell_type": "code",
   "execution_count": null,
   "metadata": {
    "collapsed": true
   },
   "outputs": [],
   "source": [
    "symptoms_dict = {}\n",
    "\n",
    "for index, symptom in enumerate(X):\n",
    "    symptoms_dict[symptom] = index"
   ]
  },
  {
   "cell_type": "code",
   "execution_count": null,
   "metadata": {},
   "outputs": [
    {
     "data": {
      "text/plain": [
       "{'itching': 0,\n",
       " 'skin_rash': 1,\n",
       " 'nodal_skin_eruptions': 2,\n",
       " 'continuous_sneezing': 3,\n",
       " 'shivering': 4,\n",
       " 'chills': 5,\n",
       " 'joint_pain': 6,\n",
       " 'stomach_pain': 7,\n",
       " 'acidity': 8,\n",
       " 'ulcers_on_tongue': 9,\n",
       " 'muscle_wasting': 10,\n",
       " 'vomiting': 11,\n",
       " 'burning_micturition': 12,\n",
       " 'spotting_ urination': 13,\n",
       " 'fatigue': 14,\n",
       " 'weight_gain': 15,\n",
       " 'anxiety': 16,\n",
       " 'cold_hands_and_feets': 17,\n",
       " 'mood_swings': 18,\n",
       " 'weight_loss': 19,\n",
       " 'restlessness': 20,\n",
       " 'lethargy': 21,\n",
       " 'patches_in_throat': 22,\n",
       " 'irregular_sugar_level': 23,\n",
       " 'cough': 24,\n",
       " 'high_fever': 25,\n",
       " 'sunken_eyes': 26,\n",
       " 'breathlessness': 27,\n",
       " 'sweating': 28,\n",
       " 'dehydration': 29,\n",
       " 'indigestion': 30,\n",
       " 'headache': 31,\n",
       " 'yellowish_skin': 32,\n",
       " 'dark_urine': 33,\n",
       " 'nausea': 34,\n",
       " 'loss_of_appetite': 35,\n",
       " 'pain_behind_the_eyes': 36,\n",
       " 'back_pain': 37,\n",
       " 'constipation': 38,\n",
       " 'abdominal_pain': 39,\n",
       " 'diarrhoea': 40,\n",
       " 'mild_fever': 41,\n",
       " 'yellow_urine': 42,\n",
       " 'yellowing_of_eyes': 43,\n",
       " 'acute_liver_failure': 44,\n",
       " 'fluid_overload': 45,\n",
       " 'swelling_of_stomach': 46,\n",
       " 'swelled_lymph_nodes': 47,\n",
       " 'malaise': 48,\n",
       " 'blurred_and_distorted_vision': 49,\n",
       " 'phlegm': 50,\n",
       " 'throat_irritation': 51,\n",
       " 'redness_of_eyes': 52,\n",
       " 'sinus_pressure': 53,\n",
       " 'runny_nose': 54,\n",
       " 'congestion': 55,\n",
       " 'chest_pain': 56,\n",
       " 'weakness_in_limbs': 57,\n",
       " 'fast_heart_rate': 58,\n",
       " 'pain_during_bowel_movements': 59,\n",
       " 'pain_in_anal_region': 60,\n",
       " 'bloody_stool': 61,\n",
       " 'irritation_in_anus': 62,\n",
       " 'neck_pain': 63,\n",
       " 'dizziness': 64,\n",
       " 'cramps': 65,\n",
       " 'bruising': 66,\n",
       " 'obesity': 67,\n",
       " 'swollen_legs': 68,\n",
       " 'swollen_blood_vessels': 69,\n",
       " 'puffy_face_and_eyes': 70,\n",
       " 'enlarged_thyroid': 71,\n",
       " 'brittle_nails': 72,\n",
       " 'swollen_extremeties': 73,\n",
       " 'excessive_hunger': 74,\n",
       " 'extra_marital_contacts': 75,\n",
       " 'drying_and_tingling_lips': 76,\n",
       " 'slurred_speech': 77,\n",
       " 'knee_pain': 78,\n",
       " 'hip_joint_pain': 79,\n",
       " 'muscle_weakness': 80,\n",
       " 'stiff_neck': 81,\n",
       " 'swelling_joints': 82,\n",
       " 'movement_stiffness': 83,\n",
       " 'spinning_movements': 84,\n",
       " 'loss_of_balance': 85,\n",
       " 'unsteadiness': 86,\n",
       " 'weakness_of_one_body_side': 87,\n",
       " 'loss_of_smell': 88,\n",
       " 'bladder_discomfort': 89,\n",
       " 'foul_smell_of urine': 90,\n",
       " 'continuous_feel_of_urine': 91,\n",
       " 'passage_of_gases': 92,\n",
       " 'internal_itching': 93,\n",
       " 'toxic_look_(typhos)': 94,\n",
       " 'depression': 95,\n",
       " 'irritability': 96,\n",
       " 'muscle_pain': 97,\n",
       " 'altered_sensorium': 98,\n",
       " 'red_spots_over_body': 99,\n",
       " 'belly_pain': 100,\n",
       " 'abnormal_menstruation': 101,\n",
       " 'dischromic _patches': 102,\n",
       " 'watering_from_eyes': 103,\n",
       " 'increased_appetite': 104,\n",
       " 'polyuria': 105,\n",
       " 'family_history': 106,\n",
       " 'mucoid_sputum': 107,\n",
       " 'rusty_sputum': 108,\n",
       " 'lack_of_concentration': 109,\n",
       " 'visual_disturbances': 110,\n",
       " 'receiving_blood_transfusion': 111,\n",
       " 'receiving_unsterile_injections': 112,\n",
       " 'coma': 113,\n",
       " 'stomach_bleeding': 114,\n",
       " 'distention_of_abdomen': 115,\n",
       " 'history_of_alcohol_consumption': 116,\n",
       " 'fluid_overload.1': 117,\n",
       " 'blood_in_sputum': 118,\n",
       " 'prominent_veins_on_calf': 119,\n",
       " 'palpitations': 120,\n",
       " 'painful_walking': 121,\n",
       " 'pus_filled_pimples': 122,\n",
       " 'blackheads': 123,\n",
       " 'scurring': 124,\n",
       " 'skin_peeling': 125,\n",
       " 'silver_like_dusting': 126,\n",
       " 'small_dents_in_nails': 127,\n",
       " 'inflammatory_nails': 128,\n",
       " 'blister': 129,\n",
       " 'red_sore_around_nose': 130,\n",
       " 'yellow_crust_ooze': 131}"
      ]
     },
     "execution_count": 29,
     "metadata": {},
     "output_type": "execute_result"
    }
   ],
   "source": [
    "symptoms_dict"
   ]
  },
  {
   "cell_type": "code",
   "execution_count": null,
   "metadata": {
    "collapsed": true
   },
   "outputs": [],
   "source": [
    "input_vector = np.zeros(len(symptoms_dict))"
   ]
  },
  {
   "cell_type": "code",
   "execution_count": null,
   "metadata": {},
   "outputs": [],
   "source": [
    "input_vector[[symptoms_dict['cramps'], symptoms_dict['cough']]] = 1"
   ]
  },
  {
   "cell_type": "code",
   "execution_count": null,
   "metadata": {},
   "outputs": [
    {
     "name": "stderr",
     "output_type": "stream",
     "text": [
      "/Users/Ricardo/Documents/Resources/AI-Playground/Symptom-LM/symptom-to-disease-prediction/.venv/lib/python3.11/site-packages/sklearn/base.py:465: UserWarning: X does not have valid feature names, but RandomForestClassifier was fitted with feature names\n",
      "  warnings.warn(\n"
     ]
    },
    {
     "data": {
      "text/plain": [
       "array([[0.  , 0.08, 0.  , 0.01, 0.03, 0.03, 0.11, 0.02, 0.  , 0.  , 0.  ,\n",
       "        0.  , 0.  , 0.04, 0.02, 0.04, 0.16, 0.03, 0.01, 0.  , 0.01, 0.  ,\n",
       "        0.  , 0.01, 0.  , 0.  , 0.  , 0.01, 0.  , 0.  , 0.  , 0.  , 0.  ,\n",
       "        0.01, 0.  , 0.  , 0.  , 0.  , 0.04, 0.34, 0.  ]])"
      ]
     },
     "execution_count": 33,
     "metadata": {},
     "output_type": "execute_result"
    }
   ],
   "source": [
    "rf_clf.predict_proba([input_vector])"
   ]
  },
  {
   "cell_type": "code",
   "execution_count": null,
   "metadata": {},
   "outputs": [
    {
     "name": "stderr",
     "output_type": "stream",
     "text": [
      "/Users/Ricardo/Documents/Resources/AI-Playground/Symptom-LM/symptom-to-disease-prediction/.venv/lib/python3.11/site-packages/sklearn/base.py:465: UserWarning: X does not have valid feature names, but RandomForestClassifier was fitted with feature names\n",
      "  warnings.warn(\n"
     ]
    },
    {
     "data": {
      "text/plain": [
       "array(['Varicose veins'], dtype=object)"
      ]
     },
     "execution_count": 34,
     "metadata": {},
     "output_type": "execute_result"
    }
   ],
   "source": [
    "rf_clf.predict([input_vector])"
   ]
  }
 ],
 "metadata": {
  "kernelspec": {
   "display_name": "Python 3",
   "language": "python",
   "name": "python3"
  },
  "language_info": {
   "codemirror_mode": {
    "name": "ipython",
    "version": 3
   },
   "file_extension": ".py",
   "mimetype": "text/x-python",
   "name": "python",
   "nbconvert_exporter": "python",
   "pygments_lexer": "ipython3",
   "version": "3.9.6"
  }
 },
 "nbformat": 4,
 "nbformat_minor": 2
}
